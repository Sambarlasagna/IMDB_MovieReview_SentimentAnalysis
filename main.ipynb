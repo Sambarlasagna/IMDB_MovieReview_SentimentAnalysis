{
 "cells": [
  {
   "cell_type": "code",
   "execution_count": 246,
   "id": "bb311d9f",
   "metadata": {},
   "outputs": [],
   "source": [
    "import pandas as pd\n",
    "import torch \n",
    "from torch.utils.data import Dataset, DataLoader"
   ]
  },
  {
   "cell_type": "code",
   "execution_count": 247,
   "id": "bb215e4c",
   "metadata": {},
   "outputs": [
    {
     "name": "stdout",
     "output_type": "stream",
     "text": [
      "cuda\n"
     ]
    }
   ],
   "source": [
    "device = (\"cuda\" if torch.cuda.is_available() else \"cpu\")\n",
    "print(device)"
   ]
  },
  {
   "cell_type": "code",
   "execution_count": 248,
   "id": "ee597ef0",
   "metadata": {},
   "outputs": [
    {
     "name": "stdout",
     "output_type": "stream",
     "text": [
      "                                              review sentiment\n",
      "0  One of the other reviewers has mentioned that ...  positive\n",
      "1  A wonderful little production. <br /><br />The...  positive\n",
      "2  I thought this was a wonderful way to spend ti...  positive\n",
      "3  Basically there's a family where a little boy ...  negative\n",
      "4  Petter Mattei's \"Love in the Time of Money\" is...  positive\n",
      "<class 'pandas.core.frame.DataFrame'>\n",
      "RangeIndex: 50000 entries, 0 to 49999\n",
      "Data columns (total 2 columns):\n",
      " #   Column     Non-Null Count  Dtype \n",
      "---  ------     --------------  ----- \n",
      " 0   review     50000 non-null  object\n",
      " 1   sentiment  50000 non-null  object\n",
      "dtypes: object(2)\n",
      "memory usage: 781.4+ KB\n",
      "None\n",
      "50000\n"
     ]
    }
   ],
   "source": [
    "df = pd.read_csv(\"dataset.csv\")\n",
    "print(df.head())\n",
    "print(df.info())\n",
    "print(len(df))\n"
   ]
  },
  {
   "cell_type": "markdown",
   "id": "320ad469",
   "metadata": {},
   "source": [
    "convert reviews(text) to tokens\n",
    "convert sentiment to digit - positive = 1, negative = 0"
   ]
  },
  {
   "cell_type": "code",
   "execution_count": 249,
   "id": "64c10022",
   "metadata": {},
   "outputs": [],
   "source": [
    "df['sentiment'] = df['sentiment'].map({'negative': 0, 'positive': 1})"
   ]
  },
  {
   "cell_type": "code",
   "execution_count": 250,
   "id": "b2e48be9",
   "metadata": {},
   "outputs": [],
   "source": [
    "from torch.utils.data import Dataset\n",
    "from transformers import AutoTokenizer\n",
    "\n",
    "tokenizer = AutoTokenizer.from_pretrained(\"bert-base-uncased\")\n",
    "class MovieDataset(Dataset):\n",
    "    def __init__(self, dataframe):\n",
    "        self.texts = dataframe['review'].values\n",
    "        self.labels = dataframe['sentiment'].values\n",
    "    \n",
    "    def __len__(self):\n",
    "        return len(self.texts)\n",
    "    \n",
    "    def __getitem__(self, idx):\n",
    "\n",
    "        token_ids = tokenizer.encode(\n",
    "            self.texts[idx],\n",
    "            add_special_tokens=True,\n",
    "            truncation=True,\n",
    "            max_length=256,\n",
    "            padding='max_length'\n",
    "        )\n",
    "        return torch.tensor(token_ids, dtype=torch.long), torch.tensor(self.labels[idx], dtype=torch.long)\n",
    "\n",
    "\n",
    "dataset = MovieDataset(df)"
   ]
  },
  {
   "cell_type": "code",
   "execution_count": 251,
   "id": "5f22fb06",
   "metadata": {},
   "outputs": [],
   "source": [
    "from torch.utils.data import random_split\n",
    "\n",
    "total_len = len(dataset)\n",
    "train_len = int(0.8 * total_len)\n",
    "valid_len = int(0.1 * total_len)\n",
    "test_len  = total_len - train_len - valid_len\n",
    "\n",
    "train_dataset, valid_dataset, test_dataset = random_split(dataset, [train_len, valid_len, test_len])\n"
   ]
  },
  {
   "cell_type": "code",
   "execution_count": 252,
   "id": "70e299ae",
   "metadata": {},
   "outputs": [
    {
     "name": "stdout",
     "output_type": "stream",
     "text": [
      "(tensor([  101,  1045,  3062,  1999,  2293,  2007,  2023,  4333,  2895,  3689,\n",
      "         1012,  9679,  5735,  1998,  2069,  9679,  5735,  2071,  2031,  2209,\n",
      "         2023,  2061,  2092,  1012,  2992,  2013,  5593,  2000,  2113,  2498,\n",
      "         2021,  2162,  1998,  3554,  1010,  6927,  1006,  9679,  5735,  1007,\n",
      "         2003, 14019,  2006,  1037,  4774,  2044,  2108,  2081, 15832,  2011,\n",
      "        19345, 13685,  3548,  1012,  1026,  7987,  1013,  1028,  1026,  7987,\n",
      "         1013,  1028,  1996,  2754,  2003,  2275,  1998,  2178,  4438, 12696,\n",
      "         1997,  2895,  5691,  2001,  2141,  1011,  5268,  1012,  2025,  8223,\n",
      "         5092,  1010,  2025, 29058,  8625, 13327,  1010,  2025,  5503, 12688,\n",
      "         1010,  2025, 11463,  9406,  1010,  2025,  4463, 28093,  3511,  1011,\n",
      "         9679,  5735,  8617,  2023,  2535,  1998,  2081,  2009,  4498,  2010,\n",
      "         1011,  2434,  1010, 15236,  1010,  1998,  2035,  2205,  2529,  1012,\n",
      "         1045,  3335,  1996,  2755,  2008, 25815,  2020,  2196,  2081,  1012,\n",
      "         1026,  7987,  1013,  1028,  1026,  7987,  1013,  1028,  2184,  1013,\n",
      "         2184,  1026,  7987,  1013,  1028,  1026,  7987,  1013,  1028,  1011,\n",
      "        25510,  1026,  7987,  1013,  1028,  1026,  7987,  1013,  1028,  1035,\n",
      "         1035,  1035,  1035,  1035,  1035,  1035,  1035,  1035,  1026,  7987,\n",
      "         1013,  1028,  1026,  7987,  1013,  1028,  2026,  4752,  1024,  8299,\n",
      "         1024,  1013,  1013,  7479,  1012,  4850, 10273,  1012,  4012,  1013,\n",
      "         6396,  2629,  1013,  1046,  9818, 22394,  1013,   102,     0,     0,\n",
      "            0,     0,     0,     0,     0,     0,     0,     0,     0,     0,\n",
      "            0,     0,     0,     0,     0,     0,     0,     0,     0,     0,\n",
      "            0,     0,     0,     0,     0,     0,     0,     0,     0,     0,\n",
      "            0,     0,     0,     0,     0,     0,     0,     0,     0,     0,\n",
      "            0,     0,     0,     0,     0,     0,     0,     0,     0,     0,\n",
      "            0,     0,     0,     0,     0,     0]), tensor(1))\n"
     ]
    }
   ],
   "source": [
    "print(train_dataset[0])"
   ]
  },
  {
   "cell_type": "code",
   "execution_count": 253,
   "id": "8237d823",
   "metadata": {},
   "outputs": [
    {
     "name": "stdout",
     "output_type": "stream",
     "text": [
      "40000 5000 5000\n"
     ]
    }
   ],
   "source": [
    "print(len(train_dataset), len(valid_dataset), len(test_dataset))"
   ]
  },
  {
   "cell_type": "code",
   "execution_count": 254,
   "id": "a42f93f7",
   "metadata": {},
   "outputs": [
    {
     "name": "stdout",
     "output_type": "stream",
     "text": [
      "torch.Size([128, 256])\n",
      "torch.Size([128])\n"
     ]
    }
   ],
   "source": [
    "\n",
    "batch_size = 128\n",
    "train_loader = DataLoader(train_dataset, batch_size=batch_size, shuffle=True)\n",
    "valid_loader = DataLoader(valid_dataset, batch_size=batch_size, shuffle=False)\n",
    "test_loader  = DataLoader(test_dataset,  batch_size=batch_size, shuffle=False)\n",
    "\n",
    "for batch in train_loader:\n",
    "    inputs, labels = batch\n",
    "    print(inputs.shape)\n",
    "    print(labels.shape)\n",
    "    break"
   ]
  },
  {
   "cell_type": "code",
   "execution_count": 255,
   "id": "40c340a3",
   "metadata": {},
   "outputs": [],
   "source": [
    "import torch.nn as nn\n",
    "import torch.nn.functional as F\n",
    "class CNN(nn.Module):\n",
    "    def __init__(\n",
    "        self,\n",
    "        vocab_size,\n",
    "        embedding_dim,\n",
    "        n_filters,\n",
    "        filter_sizes,\n",
    "        output_dim,\n",
    "        dropout_rate,\n",
    "        pad_index,\n",
    "    ):\n",
    "        super().__init__()\n",
    "        self.embedding = nn.Embedding(vocab_size, embedding_dim, padding_idx=pad_index)\n",
    "        self.convs = nn.ModuleList( \n",
    "            [\n",
    "                nn.Conv1d(embedding_dim, n_filters, filter_size)\n",
    "                for filter_size in filter_sizes\n",
    "            ]\n",
    "        )\n",
    "        self.fc = nn.Linear(len(filter_sizes) * n_filters, output_dim)\n",
    "\n",
    "\n",
    "        self.dropout = nn.Dropout(dropout_rate)\n",
    "\n",
    "    def forward(self, ids):\n",
    "        # ids = [batch size, seq len]\n",
    "        embedded = self.dropout(self.embedding(ids))\n",
    "        # embedded = [batch size, seq len, embedding dim]\n",
    "        embedded = embedded.permute(0, 2, 1)\n",
    "        # embedded = [batch size, embedding dim, seq len]\n",
    "        conved = [torch.relu(conv(embedded)) for conv in self.convs]\n",
    "        # conved_n = [batch size, n filters, seq len - filter_sizes[n] + 1]\n",
    "        pooled = [conv.max(dim=-1).values for conv in conved]\n",
    "        # pooled_n = [batch size, n filters]\n",
    "        cat = self.dropout(torch.cat(pooled, dim=-1))\n",
    "        # cat = [batch size, n filters * len(filter_sizes)]\n",
    "        prediction = self.fc(cat)\n",
    "        # prediction = [batch size, output dim]\n",
    "        return prediction"
   ]
  },
  {
   "cell_type": "code",
   "execution_count": 256,
   "id": "dab48043",
   "metadata": {},
   "outputs": [],
   "source": [
    "vocab_size = tokenizer.vocab_size\n",
    "embedding_dim = 300\n",
    "n_filters = 100\n",
    "filter_sizes = [3, 4, 5]\n",
    "output_dim = 2\n",
    "dropout_rate = 0.5\n",
    "pad_index = tokenizer.pad_token_id\n",
    "CNNModel = CNN(vocab_size, embedding_dim, n_filters, filter_sizes, output_dim, dropout_rate, pad_index)"
   ]
  },
  {
   "cell_type": "code",
   "execution_count": 257,
   "id": "e0a92541",
   "metadata": {},
   "outputs": [
    {
     "name": "stdout",
     "output_type": "stream",
     "text": [
      "The model has 9,517,502 trainable parameters\n"
     ]
    }
   ],
   "source": [
    "def count_parameters(model):\n",
    "    return sum(p.numel() for p in model.parameters() if p.requires_grad)\n",
    "\n",
    "\n",
    "print(f\"The model has {count_parameters(CNNModel):,} trainable parameters\")"
   ]
  },
  {
   "cell_type": "code",
   "execution_count": 258,
   "id": "f2bda4c0",
   "metadata": {},
   "outputs": [
    {
     "data": {
      "text/plain": [
       "CNN(\n",
       "  (embedding): Embedding(30522, 300, padding_idx=0)\n",
       "  (convs): ModuleList(\n",
       "    (0): Conv1d(300, 100, kernel_size=(3,), stride=(1,))\n",
       "    (1): Conv1d(300, 100, kernel_size=(4,), stride=(1,))\n",
       "    (2): Conv1d(300, 100, kernel_size=(5,), stride=(1,))\n",
       "  )\n",
       "  (fc): Linear(in_features=300, out_features=2, bias=True)\n",
       "  (dropout): Dropout(p=0.5, inplace=False)\n",
       ")"
      ]
     },
     "execution_count": 258,
     "metadata": {},
     "output_type": "execute_result"
    }
   ],
   "source": [
    "def init_weights(m):\n",
    "    if isinstance(m, nn.Embedding):\n",
    "        nn.init.uniform_(m.weight, -0.1, 0.1)\n",
    "    elif isinstance(m, nn.Linear):\n",
    "        nn.init.xavier_uniform_(m.weight)\n",
    "        nn.init.constant_(m.bias, 0)\n",
    "    elif isinstance(m, nn.Conv1d):\n",
    "        nn.init.kaiming_uniform_(m.weight, nonlinearity='relu')\n",
    "        if m.bias is not None:\n",
    "            nn.init.constant_(m.bias, 0)\n",
    "\n",
    "CNNModel.apply(init_weights)\n"
   ]
  },
  {
   "cell_type": "code",
   "execution_count": 259,
   "id": "0d191ffa",
   "metadata": {},
   "outputs": [],
   "source": [
    "import torch.optim as optim\n",
    "optimizer = optim.Adam(CNNModel.parameters())\n",
    "loss_fn = nn.CrossEntropyLoss()"
   ]
  },
  {
   "cell_type": "code",
   "execution_count": 260,
   "id": "c272383d",
   "metadata": {},
   "outputs": [],
   "source": [
    "CNNModel = CNNModel.to(device)\n",
    "loss_fn = loss_fn.to(device)"
   ]
  },
  {
   "cell_type": "code",
   "execution_count": 261,
   "id": "db36a66c",
   "metadata": {},
   "outputs": [],
   "source": [
    "def get_accuracy(prediction, label):\n",
    "    batch_size, _ = prediction.shape\n",
    "    predicted_classes = prediction.argmax(dim=-1)\n",
    "    correct_predictions = predicted_classes.eq(label).sum()\n",
    "    accuracy = correct_predictions / batch_size\n",
    "    return accuracy"
   ]
  },
  {
   "cell_type": "code",
   "execution_count": 262,
   "id": "03094612",
   "metadata": {},
   "outputs": [],
   "source": [
    "import tqdm\n",
    "import numpy as np\n",
    "import torch\n",
    "\n",
    "def train(data_loader, model, criterion, optimizer, device):\n",
    "    model.train()\n",
    "    epoch_losses = []\n",
    "    epoch_accs = []\n",
    "\n",
    "    for batch_ids, batch_labels in tqdm.tqdm(data_loader, desc=\"training...\"):  # unpack tuple\n",
    "        batch_ids = batch_ids.to(device)\n",
    "        batch_labels = batch_labels.to(device)\n",
    "\n",
    "        optimizer.zero_grad()\n",
    "        prediction = model(batch_ids)\n",
    "        loss = criterion(prediction, batch_labels)\n",
    "\n",
    "        # calculate accuracy\n",
    "        accuracy = (prediction.argmax(dim=1) == batch_labels).float().mean()\n",
    "\n",
    "        loss.backward()\n",
    "        optimizer.step()\n",
    "\n",
    "        epoch_losses.append(loss.item())\n",
    "        epoch_accs.append(accuracy.item())\n",
    "\n",
    "    return np.mean(epoch_losses), np.mean(epoch_accs)"
   ]
  },
  {
   "cell_type": "code",
   "execution_count": 263,
   "id": "012f06f5",
   "metadata": {},
   "outputs": [],
   "source": [
    "def evaluate(data_loader, model, criterion, device):\n",
    "    model.eval()\n",
    "    epoch_losses = []\n",
    "    epoch_accs = []\n",
    "\n",
    "    with torch.no_grad():\n",
    "        for batch_ids, batch_labels in tqdm.tqdm(data_loader, desc=\"evaluating...\"):  # unpack tuple\n",
    "            batch_ids = batch_ids.to(device)\n",
    "            batch_labels = batch_labels.to(device)\n",
    "\n",
    "            prediction = model(batch_ids)\n",
    "            loss = criterion(prediction, batch_labels)\n",
    "\n",
    "            # calculate accuracy\n",
    "            accuracy = (prediction.argmax(dim=1) == batch_labels).float().mean()\n",
    "\n",
    "            epoch_losses.append(loss.item())\n",
    "            epoch_accs.append(accuracy.item())\n",
    "\n",
    "    return np.mean(epoch_losses), np.mean(epoch_accs)"
   ]
  },
  {
   "cell_type": "code",
   "execution_count": 264,
   "id": "1f1d07a8",
   "metadata": {},
   "outputs": [
    {
     "name": "stderr",
     "output_type": "stream",
     "text": [
      "training...: 100%|██████████| 313/313 [01:13<00:00,  4.28it/s]\n",
      "evaluating...: 100%|██████████| 40/40 [00:09<00:00,  4.37it/s]\n"
     ]
    },
    {
     "name": "stdout",
     "output_type": "stream",
     "text": [
      "Epoch: 1\n",
      "Train Loss: 0.580, Train Acc: 0.676\n",
      "Valid Loss: 0.382, Valid Acc: 0.828\n"
     ]
    },
    {
     "name": "stderr",
     "output_type": "stream",
     "text": [
      "training...: 100%|██████████| 313/313 [01:12<00:00,  4.29it/s]\n",
      "evaluating...: 100%|██████████| 40/40 [00:07<00:00,  5.04it/s]\n"
     ]
    },
    {
     "name": "stdout",
     "output_type": "stream",
     "text": [
      "Epoch: 2\n",
      "Train Loss: 0.358, Train Acc: 0.840\n",
      "Valid Loss: 0.311, Valid Acc: 0.864\n"
     ]
    },
    {
     "name": "stderr",
     "output_type": "stream",
     "text": [
      "training...: 100%|██████████| 313/313 [01:09<00:00,  4.48it/s]\n",
      "evaluating...: 100%|██████████| 40/40 [00:08<00:00,  4.68it/s]"
     ]
    },
    {
     "name": "stdout",
     "output_type": "stream",
     "text": [
      "Epoch: 3\n",
      "Train Loss: 0.283, Train Acc: 0.883\n",
      "Valid Loss: 0.302, Valid Acc: 0.873\n"
     ]
    },
    {
     "name": "stderr",
     "output_type": "stream",
     "text": [
      "\n"
     ]
    }
   ],
   "source": [
    "import collections\n",
    "import torch\n",
    "\n",
    "n_epochs = 3\n",
    "best_valid_loss = float(\"inf\")\n",
    "\n",
    "metrics = collections.defaultdict(list)\n",
    "\n",
    "CNNModel = CNNModel.to(device)  # move model to GPU/CPU\n",
    "\n",
    "for epoch in range(n_epochs):\n",
    "    train_loss, train_acc = train(train_loader, CNNModel, loss_fn, optimizer, device)\n",
    "    valid_loss, valid_acc = evaluate(valid_loader, CNNModel, loss_fn, device)\n",
    "\n",
    "    # store metrics\n",
    "    metrics[\"train_losses\"].append(train_loss)\n",
    "    metrics[\"train_accs\"].append(train_acc)\n",
    "    metrics[\"valid_losses\"].append(valid_loss)\n",
    "    metrics[\"valid_accs\"].append(valid_acc)\n",
    "\n",
    "    # save best model\n",
    "    if valid_loss < best_valid_loss:\n",
    "        best_valid_loss = valid_loss\n",
    "        torch.save(CNNModel.state_dict(), \"cnn.pt\")\n",
    "\n",
    "    print(f\"Epoch: {epoch+1}\")\n",
    "    print(f\"Train Loss: {train_loss:.3f}, Train Acc: {train_acc:.3f}\")\n",
    "    print(f\"Valid Loss: {valid_loss:.3f}, Valid Acc: {valid_acc:.3f}\")\n"
   ]
  },
  {
   "cell_type": "code",
   "execution_count": 265,
   "id": "e0ab2d3e",
   "metadata": {},
   "outputs": [
    {
     "data": {
      "image/png": "[encoded data removed]",
      "text/plain": [
       "<Figure size 1000x600 with 1 Axes>"
      ]
     },
     "metadata": {},
     "output_type": "display_data"
    }
   ],
   "source": [
    "\n",
    "import matplotlib.pyplot as plt\n",
    "fig = plt.figure(figsize=(10, 6))\n",
    "ax = fig.add_subplot(1, 1, 1)\n",
    "ax.plot(metrics[\"train_losses\"], label=\"train loss\")\n",
    "ax.plot(metrics[\"valid_losses\"], label=\"valid loss\")\n",
    "ax.set_xlabel(\"epoch\")\n",
    "ax.set_ylabel(\"loss\")\n",
    "ax.set_xticks(range(n_epochs))\n",
    "ax.legend()\n",
    "ax.grid()"
   ]
  },
  {
   "cell_type": "code",
   "execution_count": 266,
   "id": "8a079fcc",
   "metadata": {},
   "outputs": [
    {
     "data": {
      "image/png": "[encoded data removed]",
      "text/plain": [
       "<Figure size 1000x600 with 1 Axes>"
      ]
     },
     "metadata": {},
     "output_type": "display_data"
    }
   ],
   "source": [
    "fig = plt.figure(figsize=(10, 6))\n",
    "ax = fig.add_subplot(1, 1, 1)\n",
    "ax.plot(metrics[\"train_accs\"], label=\"train accuracy\")\n",
    "ax.plot(metrics[\"valid_accs\"], label=\"valid accuracy\")\n",
    "ax.set_xlabel(\"epoch\")\n",
    "ax.set_ylabel(\"loss\")\n",
    "ax.set_xticks(range(n_epochs))\n",
    "ax.legend()\n",
    "ax.grid()"
   ]
  },
  {
   "cell_type": "code",
   "execution_count": 267,
   "id": "6be87c3e",
   "metadata": {},
   "outputs": [
    {
     "name": "stderr",
     "output_type": "stream",
     "text": [
      "evaluating...: 100%|██████████| 40/40 [00:08<00:00,  4.82it/s]"
     ]
    },
    {
     "name": "stdout",
     "output_type": "stream",
     "text": [
      "test_loss: 0.291, test_acc: 0.880\n"
     ]
    },
    {
     "name": "stderr",
     "output_type": "stream",
     "text": [
      "\n"
     ]
    }
   ],
   "source": [
    "test_loss, test_acc = evaluate(test_loader, CNNModel, loss_fn, device)\n",
    "print(f\"test_loss: {test_loss:.3f}, test_acc: {test_acc:.3f}\")\n"
   ]
  },
  {
   "cell_type": "code",
   "execution_count": 268,
   "id": "c9db0346",
   "metadata": {},
   "outputs": [],
   "source": [
    "def predict_sentiment(text, model, tokenizer, device, max_length=128):\n",
    "    model.eval()\n",
    "    \n",
    "    # Tokenize and pad\n",
    "    encoding = tokenizer(\n",
    "        text,\n",
    "        add_special_tokens=True,\n",
    "        truncation=True,\n",
    "        max_length=max_length,\n",
    "        padding='max_length',\n",
    "        return_tensors='pt'\n",
    "    )\n",
    "    \n",
    "    input_ids = encoding['input_ids'].to(device)  # [1, seq_len]\n",
    "\n",
    "    # Get model prediction\n",
    "    with torch.no_grad():\n",
    "        prediction = model(input_ids)  # [1, output_dim]\n",
    "        probs = torch.softmax(prediction, dim=-1)\n",
    "        predicted_class = prediction.argmax(dim=-1).item()\n",
    "        predicted_prob = probs[0, predicted_class].item()\n",
    "    \n",
    "    return predicted_class, predicted_prob"
   ]
  },
  {
   "cell_type": "code",
   "execution_count": 269,
   "id": "b237d8a5",
   "metadata": {},
   "outputs": [
    {
     "data": {
      "text/plain": [
       "(0, 0.9994163513183594)"
      ]
     },
     "execution_count": 269,
     "metadata": {},
     "output_type": "execute_result"
    }
   ],
   "source": [
    "text = \"This film is very boring and waste of time!\"\n",
    "min_length = max(filter_sizes)\n",
    "\n",
    "predict_sentiment(text, CNNModel, tokenizer, device, pad_index)"
   ]
  },
  {
   "cell_type": "markdown",
   "id": "a336a13e",
   "metadata": {},
   "source": [
    "10 epochs, adamn, cross entropy loss, no initializing weights,embedding dim 128, drop out rate - 0.5, max len 128 - 80% test accuracy\n",
    "\n",
    "10 epochs, adam, cross entropy loss, initializing weights, emb dim 128, drop out tate - 0.5, max len 128  - 82% (validation loss increases)\n",
    "\n",
    "10 epochs,adam,cross,init weights, emb dim 300, drp out rate - 0.5,max len = 256  - 86%\n",
    "same as above, but stopping at 3 epochs - 88%, loss - 29%\n",
    "\n",
    "\n",
    "Increase dropout slightly (e.g. 0.5 → 0.6) → sometimes reduces overfitting.\n",
    "\n",
    "Use early stopping → stop training when validation loss stops improving.\n",
    "\n",
    "Add weight decay (L2 regularization) in optimizer.\n",
    "\n",
    "Use pretrained embeddings (GloVe) → better generalization than random embeddings."
   ]
  }
 ],
 "metadata": {
  "kernelspec": {
   "display_name": "Python 3",
   "language": "python",
   "name": "python3"
  },
  "language_info": {
   "codemirror_mode": {
    "name": "ipython",
    "version": 3
   },
   "file_extension": ".py",
   "mimetype": "text/x-python",
   "name": "python",
   "nbconvert_exporter": "python",
   "pygments_lexer": "ipython3",
   "version": "3.12.4"
  }
 },
 "nbformat": 4,
 "nbformat_minor": 5
}
