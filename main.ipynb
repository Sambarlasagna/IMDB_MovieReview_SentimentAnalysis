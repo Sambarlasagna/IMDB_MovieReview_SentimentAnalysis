{
 "cells": [
  {
   "cell_type": "code",
   "execution_count": 75,
   "id": "bb311d9f",
   "metadata": {},
   "outputs": [],
   "source": [
    "import pandas as pd\n",
    "import torch \n",
    "from torch.utils.data import Dataset, DataLoader"
   ]
  },
  {
   "cell_type": "code",
   "execution_count": 76,
   "id": "bb215e4c",
   "metadata": {},
   "outputs": [
    {
     "name": "stdout",
     "output_type": "stream",
     "text": [
      "cuda\n"
     ]
    }
   ],
   "source": [
    "device = (\"cuda\" if torch.cuda.is_available() else \"cpu\")\n",
    "print(device)"
   ]
  },
  {
   "cell_type": "code",
   "execution_count": 77,
   "id": "ee597ef0",
   "metadata": {},
   "outputs": [
    {
     "name": "stdout",
     "output_type": "stream",
     "text": [
      "                                              review sentiment\n",
      "0  One of the other reviewers has mentioned that ...  positive\n",
      "1  A wonderful little production. <br /><br />The...  positive\n",
      "2  I thought this was a wonderful way to spend ti...  positive\n",
      "3  Basically there's a family where a little boy ...  negative\n",
      "4  Petter Mattei's \"Love in the Time of Money\" is...  positive\n",
      "<class 'pandas.core.frame.DataFrame'>\n",
      "RangeIndex: 50000 entries, 0 to 49999\n",
      "Data columns (total 2 columns):\n",
      " #   Column     Non-Null Count  Dtype \n",
      "---  ------     --------------  ----- \n",
      " 0   review     50000 non-null  object\n",
      " 1   sentiment  50000 non-null  object\n",
      "dtypes: object(2)\n",
      "memory usage: 781.4+ KB\n",
      "None\n",
      "50000\n"
     ]
    }
   ],
   "source": [
    "df = pd.read_csv(\"dataset.csv\")\n",
    "print(df.head())\n",
    "print(df.info())\n",
    "print(len(df))\n"
   ]
  },
  {
   "cell_type": "markdown",
   "id": "320ad469",
   "metadata": {},
   "source": [
    "convert reviews(text) to tokens\n",
    "convert sentiment to digit - positive = 1, negative = 0"
   ]
  },
  {
   "cell_type": "code",
   "execution_count": 78,
   "id": "b2e48be9",
   "metadata": {},
   "outputs": [],
   "source": [
    "from torch.utils.data import Dataset\n",
    "from transformers import AutoTokenizer\n",
    "\n",
    "tokenizer = AutoTokenizer.from_pretrained(\"bert-base-uncased\")\n",
    "class IMDBDataset(Dataset):\n",
    "    def __init__(self, dataframe):\n",
    "        self.texts = dataframe['review'].values\n",
    "        self.labels = dataframe['sentiment'].values\n",
    "    \n",
    "    def __len__(self):\n",
    "        return len(self.texts)\n",
    "    \n",
    "    def __getitem__(self, idx):\n",
    "\n",
    "        token_ids = tokenizer.encode(\n",
    "            self.texts[idx],\n",
    "            add_special_tokens=True,\n",
    "            truncation=True,\n",
    "            max_length=128\n",
    "        )\n",
    "        return torch.tensor(token_ids, dtype=torch.long), self.labels[idx]\n",
    "\n",
    "dataset = IMDBDataset(df)"
   ]
  },
  {
   "cell_type": "code",
   "execution_count": 79,
   "id": "5f22fb06",
   "metadata": {},
   "outputs": [],
   "source": [
    "from torch.utils.data import random_split\n",
    "\n",
    "total_len = len(dataset)\n",
    "train_len = int(0.8 * total_len)\n",
    "valid_len = int(0.1 * total_len)\n",
    "test_len  = total_len - train_len - valid_len\n",
    "\n",
    "train_dataset, valid_dataset, test_dataset = random_split(dataset, [train_len, valid_len, test_len])\n"
   ]
  },
  {
   "cell_type": "code",
   "execution_count": 80,
   "id": "8237d823",
   "metadata": {},
   "outputs": [
    {
     "name": "stdout",
     "output_type": "stream",
     "text": [
      "40000 5000 5000\n"
     ]
    }
   ],
   "source": [
    "print(len(train_dataset), len(valid_dataset), len(test_dataset))"
   ]
  }
 ],
 "metadata": {
  "kernelspec": {
   "display_name": "Python 3",
   "language": "python",
   "name": "python3"
  },
  "language_info": {
   "codemirror_mode": {
    "name": "ipython",
    "version": 3
   },
   "file_extension": ".py",
   "mimetype": "text/x-python",
   "name": "python",
   "nbconvert_exporter": "python",
   "pygments_lexer": "ipython3",
   "version": "3.12.4"
  }
 },
 "nbformat": 4,
 "nbformat_minor": 5
}
