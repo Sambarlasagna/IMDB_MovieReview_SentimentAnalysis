{
 "cells": [
  {
   "cell_type": "code",
   "execution_count": 1,
   "id": "5e32015e",
   "metadata": {},
   "outputs": [],
   "source": [
    "import pandas as pd\n",
    "from  torch.utils.data import random_split,DataLoader\n",
    "df = pd.read_csv('dataset.csv')\n",
    "df['sentiment'] = df['sentiment'].map({'negative': 0, 'positive': 1})\n",
    "\n",
    "\n"
   ]
  },
  {
   "cell_type": "code",
   "execution_count": 2,
   "id": "9c28e5fc",
   "metadata": {},
   "outputs": [],
   "source": [
    "import torch\n",
    "from torch.utils.data import Dataset\n",
    "from transformers import AutoTokenizer\n",
    "\n",
    "device = torch.device(\"cuda\" if torch.cuda.is_available() else \"cpu\")\n",
    "tokenizer = AutoTokenizer.from_pretrained(\"bert-base-uncased\")\n",
    "\n",
    "class MovieDataset(Dataset):\n",
    "    def __init__(self, dataframe, max_len=256):\n",
    "        self.texts = dataframe['review'].tolist()\n",
    "        self.labels = dataframe['sentiment'].tolist()\n",
    "        self.max_len = max_len\n",
    "    \n",
    "    def __len__(self):\n",
    "        return len(self.texts)\n",
    "    \n",
    "    def __getitem__(self, idx):\n",
    "        encoding = tokenizer.encode_plus(\n",
    "            self.texts[idx],\n",
    "            add_special_tokens=True,\n",
    "            truncation=True,\n",
    "            padding=\"max_length\",   # automatically pads to max_len\n",
    "            max_length=self.max_len,\n",
    "            return_tensors=\"pt\"\n",
    "        )\n",
    "        tokens = encoding['input_ids'].squeeze(0)  # remove batch dimension\n",
    "        seq_len = (tokens != tokenizer.pad_token_id).sum().item()  # actual length\n",
    "        label = torch.tensor(self.labels[idx], dtype=torch.long)\n",
    "        return tokens, label, seq_len\n",
    "dataset = MovieDataset(df)\n"
   ]
  },
  {
   "cell_type": "code",
   "execution_count": 3,
   "id": "4367459e",
   "metadata": {},
   "outputs": [],
   "source": [
    "from torch.utils.data import random_split\n",
    "\n",
    "total_len = len(dataset)\n",
    "train_len = int(0.8 * total_len)\n",
    "valid_len = int(0.1 * total_len)\n",
    "test_len  = total_len - train_len - valid_len\n",
    "\n",
    "train_dataset, valid_dataset, test_dataset = random_split(dataset, [train_len, valid_len, test_len])"
   ]
  },
  {
   "cell_type": "code",
   "execution_count": 4,
   "id": "378085dc",
   "metadata": {},
   "outputs": [],
   "source": [
    "batch_size = 64\n",
    "max_len = 128\n",
    "train_loader = DataLoader(train_dataset, batch_size=batch_size, shuffle=True)\n",
    "valid_loader = DataLoader(valid_dataset, batch_size=batch_size, shuffle=False)\n",
    "test_loader  = DataLoader(test_dataset,  batch_size=batch_size, shuffle=False)\n",
    "\n"
   ]
  },
  {
   "cell_type": "code",
   "execution_count": 5,
   "id": "6694badf",
   "metadata": {},
   "outputs": [],
   "source": [
    "import torch.nn as nn\n",
    "\n",
    "class LSTM(nn.Module):\n",
    "    def __init__(\n",
    "        self,\n",
    "        vocab_size,\n",
    "        embedding_dim,\n",
    "        hidden_dim,\n",
    "        output_dim,\n",
    "        n_layers,\n",
    "        bidirectional,\n",
    "        dropout_rate,\n",
    "        pad_index,\n",
    "    ):\n",
    "        super().__init__()\n",
    "        self.embedding = nn.Embedding(vocab_size, embedding_dim, padding_idx=pad_index)\n",
    "        \n",
    "        self.lstm = nn.LSTM(\n",
    "            input_size=embedding_dim,\n",
    "            hidden_size=hidden_dim,\n",
    "            num_layers=n_layers,\n",
    "            bidirectional=bidirectional,\n",
    "            dropout=dropout_rate if n_layers > 1 else 0.0,\n",
    "            batch_first=True,\n",
    "        )\n",
    "\n",
    "        self.fc = nn.Linear(hidden_dim * 2 if bidirectional else hidden_dim, output_dim)\n",
    "        self.dropout = nn.Dropout(dropout_rate)\n",
    "        self.bidirectional = bidirectional\n",
    "\n",
    "    def forward(self, ids, lengths):\n",
    "        embedded = self.dropout(self.embedding(ids))\n",
    "        \n",
    "        # Pack the sequences\n",
    "        packed_embedded = nn.utils.rnn.pack_padded_sequence(\n",
    "            embedded, lengths.cpu(), batch_first=True, enforce_sorted=False\n",
    "        )\n",
    "        \n",
    "        packed_output, (hidden, cell) = self.lstm(packed_embedded)\n",
    "        \n",
    "        # Concatenate last hidden states from both directions if bidirectional\n",
    "        if self.bidirectional:\n",
    "            hidden = self.dropout(torch.cat((hidden[-2], hidden[-1]), dim=1))\n",
    "        else:\n",
    "            hidden = self.dropout(hidden[-1])\n",
    "        \n",
    "        prediction = self.fc(hidden)\n",
    "        return prediction\n"
   ]
  },
  {
   "cell_type": "code",
   "execution_count": 6,
   "id": "93d2eb98",
   "metadata": {},
   "outputs": [],
   "source": [
    "import numpy as np\n",
    "import tqdm\n",
    "import torch\n",
    "\n",
    "def train(data_loader, model, criterion, optimizer, device):\n",
    "    model.train()\n",
    "    epoch_losses = []\n",
    "    epoch_accs = []\n",
    "\n",
    "    for batch_ids, batch_labels, lengths in tqdm.tqdm(data_loader, desc=\"training...\"):\n",
    "        batch_ids = batch_ids.to(device)\n",
    "        batch_labels = batch_labels.to(device)\n",
    "        lengths = lengths.to(device)\n",
    "\n",
    "        optimizer.zero_grad()\n",
    "        prediction = model(batch_ids, lengths)\n",
    "        loss = criterion(prediction, batch_labels)\n",
    "\n",
    "        accuracy = (prediction.argmax(dim=1) == batch_labels).float().mean()\n",
    "\n",
    "        loss.backward()\n",
    "        optimizer.step()\n",
    "\n",
    "        epoch_losses.append(loss.item())\n",
    "        epoch_accs.append(accuracy.item())\n",
    "\n",
    "    return np.mean(epoch_losses), np.mean(epoch_accs)\n",
    "\n",
    "def evaluate(data_loader, model, criterion, device):\n",
    "    model.eval()\n",
    "    epoch_losses = []\n",
    "    epoch_accs = []\n",
    "\n",
    "    with torch.no_grad():\n",
    "        for batch_ids, batch_labels, lengths in tqdm.tqdm(data_loader, desc=\"evaluating...\"):\n",
    "            batch_ids = batch_ids.to(device)\n",
    "            batch_labels = batch_labels.to(device)\n",
    "            lengths = lengths.to(device)\n",
    "\n",
    "            prediction = model(batch_ids, lengths)\n",
    "            loss = criterion(prediction, batch_labels)\n",
    "            accuracy = (prediction.argmax(dim=1) == batch_labels).float().mean()\n",
    "\n",
    "            epoch_losses.append(loss.item())\n",
    "            epoch_accs.append(accuracy.item())\n",
    "\n",
    "    return np.mean(epoch_losses), np.mean(epoch_accs)\n"
   ]
  },
  {
   "cell_type": "code",
   "execution_count": 7,
   "id": "f09ec107",
   "metadata": {},
   "outputs": [],
   "source": [
    "from torch.utils.data import DataLoader\n",
    "\n",
    "\n",
    "# model\n",
    "vocab_size = tokenizer.vocab_size\n",
    "embedding_dim = 300\n",
    "hidden_dim = 300\n",
    "output_dim = 2\n",
    "n_layers = 2\n",
    "bidirectional = True\n",
    "dropout_rate = 0.5\n",
    "pad_index = tokenizer.pad_token_id\n",
    "\n",
    "device = torch.device(\"cuda\" if torch.cuda.is_available() else \"cpu\")\n",
    "\n",
    "LSTMModel = LSTM(\n",
    "    vocab_size,\n",
    "    embedding_dim,\n",
    "    hidden_dim,\n",
    "    output_dim,\n",
    "    n_layers,\n",
    "    bidirectional,\n",
    "    dropout_rate,\n",
    "    pad_index\n",
    ").to(device)\n",
    "\n",
    "# optimizer and loss\n",
    "optimizer = torch.optim.Adam(LSTMModel.parameters(), lr=1e-3)\n",
    "loss_fn = nn.CrossEntropyLoss()\n"
   ]
  },
  {
   "cell_type": "code",
   "execution_count": null,
   "id": "94023fa2",
   "metadata": {},
   "outputs": [
    {
     "name": "stderr",
     "output_type": "stream",
     "text": [
      "training...: 100%|██████████| 625/625 [01:47<00:00,  5.83it/s]\n",
      "evaluating...: 100%|██████████| 79/79 [00:06<00:00, 11.40it/s]\n"
     ]
    },
    {
     "name": "stdout",
     "output_type": "stream",
     "text": [
      "Epoch 1 | Train Loss: 0.664, Train Acc: 0.597 | Valid Loss: 0.590, Valid Acc: 0.684\n"
     ]
    },
    {
     "name": "stderr",
     "output_type": "stream",
     "text": [
      "training...: 100%|██████████| 625/625 [01:49<00:00,  5.69it/s]\n",
      "evaluating...: 100%|██████████| 79/79 [00:08<00:00,  9.35it/s]\n"
     ]
    },
    {
     "name": "stdout",
     "output_type": "stream",
     "text": [
      "Epoch 2 | Train Loss: 0.579, Train Acc: 0.696 | Valid Loss: 0.446, Valid Acc: 0.797\n"
     ]
    },
    {
     "name": "stderr",
     "output_type": "stream",
     "text": [
      "training...: 100%|██████████| 625/625 [01:51<00:00,  5.63it/s]\n",
      "evaluating...: 100%|██████████| 79/79 [00:07<00:00, 11.11it/s]\n"
     ]
    },
    {
     "name": "stdout",
     "output_type": "stream",
     "text": [
      "Epoch 3 | Train Loss: 0.377, Train Acc: 0.834 | Valid Loss: 0.300, Valid Acc: 0.877\n"
     ]
    },
    {
     "name": "stderr",
     "output_type": "stream",
     "text": [
      "training...: 100%|██████████| 625/625 [01:47<00:00,  5.82it/s]\n",
      "evaluating...: 100%|██████████| 79/79 [00:07<00:00, 10.90it/s]\n"
     ]
    },
    {
     "name": "stdout",
     "output_type": "stream",
     "text": [
      "Epoch 4 | Train Loss: 0.299, Train Acc: 0.875 | Valid Loss: 0.275, Valid Acc: 0.884\n"
     ]
    },
    {
     "name": "stderr",
     "output_type": "stream",
     "text": [
      "training...:  14%|█▍        | 88/625 [00:15<01:32,  5.84it/s]"
     ]
    }
   ],
   "source": [
    "n_epochs = 10\n",
    "best_valid_loss = float(\"inf\")\n",
    "\n",
    "for epoch in range(n_epochs):\n",
    "    train_loss, train_acc = train(train_loader, LSTMModel, loss_fn, optimizer, device)\n",
    "    valid_loss, valid_acc = evaluate(valid_loader, LSTMModel, loss_fn, device)\n",
    "    \n",
    "    if valid_loss < best_valid_loss:\n",
    "        best_valid_loss = valid_loss\n",
    "        torch.save(LSTMModel.state_dict(), \"best_lstm.pt\")\n",
    "    \n",
    "    print(f\"Epoch {epoch+1} | Train Loss: {train_loss:.3f}, Train Acc: {train_acc:.3f} | Valid Loss: {valid_loss:.3f}, Valid Acc: {valid_acc:.3f}\")\n"
   ]
  },
  {
   "cell_type": "code",
   "execution_count": null,
   "id": "69f13c13",
   "metadata": {},
   "outputs": [],
   "source": []
  },
  {
   "cell_type": "code",
   "execution_count": null,
   "id": "28c06a48",
   "metadata": {},
   "outputs": [],
   "source": []
  }
 ],
 "metadata": {
  "kernelspec": {
   "display_name": "Python 3",
   "language": "python",
   "name": "python3"
  },
  "language_info": {
   "codemirror_mode": {
    "name": "ipython",
    "version": 3
   },
   "file_extension": ".py",
   "mimetype": "text/x-python",
   "name": "python",
   "nbconvert_exporter": "python",
   "pygments_lexer": "ipython3",
   "version": "3.12.4"
  }
 },
 "nbformat": 4,
 "nbformat_minor": 5
}
